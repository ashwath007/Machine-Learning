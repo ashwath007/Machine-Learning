{
 "cells": [
  {
   "cell_type": "markdown",
   "metadata": {
    "id": "3DR-eO17geWu"
   },
   "source": [
    "# Convolutional Neural Network"
   ]
  },
  {
   "cell_type": "markdown",
   "metadata": {
    "id": "EMefrVPCg-60"
   },
   "source": [
    "### Importing the libraries"
   ]
  },
  {
   "cell_type": "code",
   "execution_count": 1,
   "metadata": {
    "id": "sCV30xyVhFbE"
   },
   "outputs": [],
   "source": [
    "import tensorflow as tf\n",
    "from keras.preprocessing.image import ImageDataGenerator"
   ]
  },
  {
   "cell_type": "code",
   "execution_count": 2,
   "metadata": {
    "id": "FIleuCAjoFD8"
   },
   "outputs": [
    {
     "data": {
      "text/plain": [
       "'2.4.1'"
      ]
     },
     "execution_count": 2,
     "metadata": {},
     "output_type": "execute_result"
    }
   ],
   "source": [
    "tf.__version__"
   ]
  },
  {
   "cell_type": "markdown",
   "metadata": {
    "id": "oxQxCBWyoGPE"
   },
   "source": [
    "## Part 1 - Data Preprocessing"
   ]
  },
  {
   "cell_type": "markdown",
   "metadata": {
    "id": "MvE-heJNo3GG"
   },
   "source": [
    "### Preprocessing the Training set"
   ]
  },
  {
   "cell_type": "code",
   "execution_count": 3,
   "metadata": {
    "id": "0koUcJMJpEBD"
   },
   "outputs": [
    {
     "name": "stdout",
     "output_type": "stream",
     "text": [
      "Found 8000 images belonging to 2 classes.\n"
     ]
    }
   ],
   "source": [
    "train_datagen = ImageDataGenerator(rescale = 1./255,\n",
    "                                   shear_range = 0.2,\n",
    "                                   zoom_range = 0.2,\n",
    "                                   horizontal_flip = True)\n",
    "training_set = train_datagen.flow_from_directory('./dataset/training_set',\n",
    "                                                 target_size = (64, 64),\n",
    "                                                 batch_size = 32,\n",
    "                                                 class_mode = 'binary')"
   ]
  },
  {
   "cell_type": "markdown",
   "metadata": {
    "id": "mrCMmGw9pHys"
   },
   "source": [
    "### Preprocessing the Test set"
   ]
  },
  {
   "cell_type": "code",
   "execution_count": 4,
   "metadata": {
    "id": "SH4WzfOhpKc3"
   },
   "outputs": [
    {
     "name": "stdout",
     "output_type": "stream",
     "text": [
      "Found 2000 images belonging to 2 classes.\n"
     ]
    }
   ],
   "source": [
    "test_datagen = ImageDataGenerator(rescale = 1./255)\n",
    "test_set = test_datagen.flow_from_directory('./dataset/test_set',\n",
    "                                            target_size = (64, 64),\n",
    "                                            batch_size = 32,\n",
    "                                            class_mode = 'binary')"
   ]
  },
  {
   "cell_type": "markdown",
   "metadata": {
    "id": "af8O4l90gk7B"
   },
   "source": [
    "## Part 2 - Building the CNN"
   ]
  },
  {
   "cell_type": "markdown",
   "metadata": {
    "id": "ces1gXY2lmoX"
   },
   "source": [
    "### Initialising the CNN"
   ]
  },
  {
   "cell_type": "code",
   "execution_count": 5,
   "metadata": {
    "id": "SAUt4UMPlhLS"
   },
   "outputs": [],
   "source": [
    "cnn = tf.keras.models.Sequential()"
   ]
  },
  {
   "cell_type": "markdown",
   "metadata": {
    "id": "u5YJj_XMl5LF"
   },
   "source": [
    "### Step 1 - Convolution"
   ]
  },
  {
   "cell_type": "code",
   "execution_count": 6,
   "metadata": {
    "id": "XPzPrMckl-hV"
   },
   "outputs": [],
   "source": [
    "cnn.add(tf.keras.layers.Conv2D(filters=32, kernel_size=3, activation='relu', input_shape=[64, 64, 3]))"
   ]
  },
  {
   "cell_type": "markdown",
   "metadata": {
    "id": "tf87FpvxmNOJ"
   },
   "source": [
    "### Step 2 - Pooling"
   ]
  },
  {
   "cell_type": "code",
   "execution_count": 7,
   "metadata": {
    "id": "ncpqPl69mOac"
   },
   "outputs": [],
   "source": [
    "cnn.add(tf.keras.layers.MaxPool2D(pool_size=2, strides=2))"
   ]
  },
  {
   "cell_type": "markdown",
   "metadata": {
    "id": "xaTOgD8rm4mU"
   },
   "source": [
    "### Adding a second convolutional layer"
   ]
  },
  {
   "cell_type": "code",
   "execution_count": 8,
   "metadata": {
    "id": "i_-FZjn_m8gk"
   },
   "outputs": [],
   "source": [
    "cnn.add(tf.keras.layers.Conv2D(filters=32, kernel_size=3, activation='relu'))\n",
    "cnn.add(tf.keras.layers.MaxPool2D(pool_size=2, strides=2))"
   ]
  },
  {
   "cell_type": "markdown",
   "metadata": {
    "id": "tmiEuvTunKfk"
   },
   "source": [
    "### Step 3 - Flattening"
   ]
  },
  {
   "cell_type": "code",
   "execution_count": 9,
   "metadata": {
    "id": "6AZeOGCvnNZn"
   },
   "outputs": [],
   "source": [
    "cnn.add(tf.keras.layers.Flatten())"
   ]
  },
  {
   "cell_type": "markdown",
   "metadata": {
    "id": "dAoSECOm203v"
   },
   "source": [
    "### Step 4 - Full Connection"
   ]
  },
  {
   "cell_type": "code",
   "execution_count": 10,
   "metadata": {
    "id": "8GtmUlLd26Nq"
   },
   "outputs": [],
   "source": [
    "cnn.add(tf.keras.layers.Dense(units=128, activation='relu'))"
   ]
  },
  {
   "cell_type": "markdown",
   "metadata": {
    "id": "yTldFvbX28Na"
   },
   "source": [
    "### Step 5 - Output Layer"
   ]
  },
  {
   "cell_type": "code",
   "execution_count": 11,
   "metadata": {
    "id": "1p_Zj1Mc3Ko_"
   },
   "outputs": [],
   "source": [
    "cnn.add(tf.keras.layers.Dense(units=1, activation='sigmoid'))"
   ]
  },
  {
   "cell_type": "markdown",
   "metadata": {
    "id": "D6XkI90snSDl"
   },
   "source": [
    "## Part 3 - Training the CNN"
   ]
  },
  {
   "cell_type": "markdown",
   "metadata": {
    "id": "vfrFQACEnc6i"
   },
   "source": [
    "### Compiling the CNN"
   ]
  },
  {
   "cell_type": "code",
   "execution_count": 12,
   "metadata": {
    "id": "NALksrNQpUlJ"
   },
   "outputs": [],
   "source": [
    "cnn.compile(optimizer = 'adam', loss = 'binary_crossentropy', metrics = ['accuracy'])"
   ]
  },
  {
   "cell_type": "markdown",
   "metadata": {
    "id": "ehS-v3MIpX2h"
   },
   "source": [
    "### Training the CNN on the Training set and evaluating it on the Test set"
   ]
  },
  {
   "cell_type": "code",
   "execution_count": 13,
   "metadata": {
    "id": "XUj1W4PJptta"
   },
   "outputs": [
    {
     "name": "stdout",
     "output_type": "stream",
     "text": [
      "Epoch 1/25\n",
      "250/250 [==============================] - 23s 89ms/step - loss: 0.6879 - accuracy: 0.5321 - val_loss: 0.6082 - val_accuracy: 0.6795\n",
      "Epoch 2/25\n",
      "250/250 [==============================] - 21s 84ms/step - loss: 0.6087 - accuracy: 0.6699 - val_loss: 0.5941 - val_accuracy: 0.6920\n",
      "Epoch 3/25\n",
      "250/250 [==============================] - 22s 88ms/step - loss: 0.5550 - accuracy: 0.7191 - val_loss: 0.5302 - val_accuracy: 0.7420\n",
      "Epoch 4/25\n",
      "250/250 [==============================] - 22s 87ms/step - loss: 0.5310 - accuracy: 0.7371 - val_loss: 0.5220 - val_accuracy: 0.7390\n",
      "Epoch 5/25\n",
      "250/250 [==============================] - 22s 87ms/step - loss: 0.5085 - accuracy: 0.7486 - val_loss: 0.5278 - val_accuracy: 0.7525\n",
      "Epoch 6/25\n",
      "250/250 [==============================] - 22s 88ms/step - loss: 0.4867 - accuracy: 0.7659 - val_loss: 0.4886 - val_accuracy: 0.7700\n",
      "Epoch 7/25\n",
      "250/250 [==============================] - 22s 88ms/step - loss: 0.4651 - accuracy: 0.7693 - val_loss: 0.4812 - val_accuracy: 0.7790\n",
      "Epoch 8/25\n",
      "250/250 [==============================] - 22s 88ms/step - loss: 0.4487 - accuracy: 0.7894 - val_loss: 0.4745 - val_accuracy: 0.7810\n",
      "Epoch 9/25\n",
      "250/250 [==============================] - 22s 88ms/step - loss: 0.4402 - accuracy: 0.7990 - val_loss: 0.4763 - val_accuracy: 0.7780\n",
      "Epoch 10/25\n",
      "250/250 [==============================] - 22s 88ms/step - loss: 0.4250 - accuracy: 0.8049 - val_loss: 0.4643 - val_accuracy: 0.7920\n",
      "Epoch 11/25\n",
      "250/250 [==============================] - 22s 89ms/step - loss: 0.4015 - accuracy: 0.8169 - val_loss: 0.4619 - val_accuracy: 0.7950\n",
      "Epoch 12/25\n",
      "250/250 [==============================] - 22s 88ms/step - loss: 0.3834 - accuracy: 0.8222 - val_loss: 0.4815 - val_accuracy: 0.7840\n",
      "Epoch 13/25\n",
      "250/250 [==============================] - 22s 90ms/step - loss: 0.3717 - accuracy: 0.8280 - val_loss: 0.4480 - val_accuracy: 0.8000\n",
      "Epoch 14/25\n",
      "250/250 [==============================] - 22s 88ms/step - loss: 0.3699 - accuracy: 0.8343 - val_loss: 0.4346 - val_accuracy: 0.8100\n",
      "Epoch 15/25\n",
      "250/250 [==============================] - 22s 89ms/step - loss: 0.3485 - accuracy: 0.8454 - val_loss: 0.4618 - val_accuracy: 0.8070\n",
      "Epoch 16/25\n",
      "250/250 [==============================] - 23s 93ms/step - loss: 0.3393 - accuracy: 0.8476 - val_loss: 0.4630 - val_accuracy: 0.8050\n",
      "Epoch 17/25\n",
      "250/250 [==============================] - 23s 92ms/step - loss: 0.3319 - accuracy: 0.8572 - val_loss: 0.4602 - val_accuracy: 0.8055\n",
      "Epoch 18/25\n",
      "250/250 [==============================] - 23s 91ms/step - loss: 0.3275 - accuracy: 0.8623 - val_loss: 0.4582 - val_accuracy: 0.8145\n",
      "Epoch 19/25\n",
      "250/250 [==============================] - 24s 95ms/step - loss: 0.3069 - accuracy: 0.8672 - val_loss: 0.4607 - val_accuracy: 0.8135\n",
      "Epoch 20/25\n",
      "250/250 [==============================] - 24s 98ms/step - loss: 0.2825 - accuracy: 0.8785 - val_loss: 0.4705 - val_accuracy: 0.8060\n",
      "Epoch 21/25\n",
      "250/250 [==============================] - 23s 94ms/step - loss: 0.2707 - accuracy: 0.8841 - val_loss: 0.5196 - val_accuracy: 0.7880\n",
      "Epoch 22/25\n",
      "250/250 [==============================] - 23s 91ms/step - loss: 0.2691 - accuracy: 0.8834 - val_loss: 0.6144 - val_accuracy: 0.7450\n",
      "Epoch 23/25\n",
      "250/250 [==============================] - 23s 90ms/step - loss: 0.2815 - accuracy: 0.8824 - val_loss: 0.5423 - val_accuracy: 0.7880\n",
      "Epoch 24/25\n",
      "250/250 [==============================] - 23s 93ms/step - loss: 0.2426 - accuracy: 0.8959 - val_loss: 0.5234 - val_accuracy: 0.7930\n",
      "Epoch 25/25\n",
      "250/250 [==============================] - 23s 90ms/step - loss: 0.2204 - accuracy: 0.9052 - val_loss: 0.5580 - val_accuracy: 0.7950\n"
     ]
    },
    {
     "data": {
      "text/plain": [
       "<tensorflow.python.keras.callbacks.History at 0x22c84b1ab20>"
      ]
     },
     "execution_count": 13,
     "metadata": {},
     "output_type": "execute_result"
    }
   ],
   "source": [
    "cnn.fit(x = training_set, validation_data = test_set, epochs = 25)"
   ]
  },
  {
   "cell_type": "markdown",
   "metadata": {
    "id": "U3PZasO0006Z"
   },
   "source": [
    "## Part 4 - Making a single prediction"
   ]
  },
  {
   "cell_type": "code",
   "execution_count": 16,
   "metadata": {
    "id": "gsSiWEJY1BPB"
   },
   "outputs": [],
   "source": [
    "import numpy as np\n",
    "from keras.preprocessing import image\n",
    "test_image = image.load_img('dataset/single_prediction/test_one.jpg', target_size = (64, 64))\n",
    "test_image = image.img_to_array(test_image)\n",
    "test_image = np.expand_dims(test_image, axis = 0)\n",
    "result = cnn.predict(test_image)\n",
    "training_set.class_indices\n",
    "if result[0][0] == 1:\n",
    "  prediction = 'dog'\n",
    "else:\n",
    "  prediction = 'cat'"
   ]
  },
  {
   "cell_type": "code",
   "execution_count": 17,
   "metadata": {
    "id": "ED9KB3I54c1i"
   },
   "outputs": [
    {
     "name": "stdout",
     "output_type": "stream",
     "text": [
      "cat\n"
     ]
    }
   ],
   "source": [
    "print(prediction)"
   ]
  },
  {
   "cell_type": "code",
   "execution_count": null,
   "metadata": {},
   "outputs": [],
   "source": []
  }
 ],
 "metadata": {
  "colab": {
   "collapsed_sections": [],
   "name": "convolutional_neural_network.ipynb",
   "provenance": [],
   "toc_visible": true
  },
  "kernelspec": {
   "display_name": "Python 3",
   "language": "python",
   "name": "python3"
  },
  "language_info": {
   "codemirror_mode": {
    "name": "ipython",
    "version": 3
   },
   "file_extension": ".py",
   "mimetype": "text/x-python",
   "name": "python",
   "nbconvert_exporter": "python",
   "pygments_lexer": "ipython3",
   "version": "3.8.2"
  }
 },
 "nbformat": 4,
 "nbformat_minor": 1
}
